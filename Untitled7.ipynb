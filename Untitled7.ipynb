{
 "cells": [
  {
   "cell_type": "code",
   "execution_count": 64,
   "metadata": {},
   "outputs": [],
   "source": [
    "import pandas as pd\n",
    "Nifty_data=pd.read_csv(\"E:/summer/NIFTY50.csv\",parse_dates=['Date'])"
   ]
  },
  {
   "cell_type": "code",
   "execution_count": 65,
   "metadata": {},
   "outputs": [],
   "source": [
    "Nifty_data['day']=Nifty_data['Date'].map(lambda x:x.day)"
   ]
  },
  {
   "cell_type": "code",
   "execution_count": 66,
   "metadata": {},
   "outputs": [],
   "source": [
    "Nifty_data['month']=Nifty_data['Date'].map(lambda x:x.month)"
   ]
  },
  {
   "cell_type": "code",
   "execution_count": 67,
   "metadata": {},
   "outputs": [],
   "source": [
    "Nifty_data['year']=Nifty_data['Date'].map(lambda x:x.year)"
   ]
  },
  {
   "cell_type": "code",
   "execution_count": 68,
   "metadata": {},
   "outputs": [],
   "source": [
    "All_returns=list()\n",
    "for i in range(2010,2019):\n",
    "    for j in range(1,13):\n",
    "        Open=Nifty_data.Open[(Nifty_data['year']==i) & (Nifty_data['month']==j)]\n",
    "        if(Open.empty):\n",
    "            continue;\n",
    "        else :\n",
    "            Open.index=range(1,len(Nifty_data[(Nifty_data['year']==i) & (Nifty_data['month']==j)])+1)\n",
    "            returns=((Open[len(Open)]-Open[1])/Open[1])*100\n",
    "            All_returns.append(returns)"
   ]
  },
  {
   "cell_type": "code",
   "execution_count": 69,
   "metadata": {},
   "outputs": [],
   "source": [
    "All_mov_avg=list()\n",
    "passing=list()\n",
    "for i in range(2010,2019):\n",
    "    for j in range(1,13):\n",
    "        Open=Nifty_data.Open[(Nifty_data['year']==i) & (Nifty_data['month']==j)]\n",
    "        if(Open.empty):\n",
    "                continue;\n",
    "        else:\n",
    "                mov=list(Open)\n",
    "                for k in range(len(mov)):\n",
    "                               All_mov_avg.append(sum(mov[k:k+5])/5)"
   ]
  },
  {
   "cell_type": "code",
   "execution_count": 70,
   "metadata": {},
   "outputs": [
    {
     "data": {
      "text/plain": [
       "2010-04     0.095253\n",
       "2010-05    -3.832601\n",
       "2010-06     3.303023\n",
       "2010-07     1.813801\n",
       "2010-08     0.819436\n",
       "2010-09    10.888295\n",
       "2010-10    -0.151734\n",
       "2010-11    -4.607455\n",
       "2010-12     3.987396\n",
       "2011-01   -11.734615\n",
       "Freq: M, dtype: float64"
      ]
     },
     "execution_count": 70,
     "metadata": {},
     "output_type": "execute_result"
    }
   ],
   "source": [
    "All_r=pd.Series(All_returns)\n",
    "All_r.index=pd.date_range('Apr 2010',freq='M',periods=96).to_period()\n",
    "All_r.head(10)"
   ]
  },
  {
   "cell_type": "code",
   "execution_count": 71,
   "metadata": {
    "scrolled": true
   },
   "outputs": [
    {
     "data": {
      "text/plain": [
       "0    5330.45\n",
       "1    5341.09\n",
       "2    5353.64\n",
       "3    5347.88\n",
       "4    5339.40\n",
       "5    5318.82\n",
       "6    5314.15\n",
       "7    5284.98\n",
       "8    5262.87\n",
       "9    5247.93\n",
       "dtype: float64"
      ]
     },
     "execution_count": 71,
     "metadata": {},
     "output_type": "execute_result"
    }
   ],
   "source": [
    "All_mov=pd.Series(All_mov_avg)\n",
    "All_mov.head(10)"
   ]
  },
  {
   "cell_type": "code",
   "execution_count": null,
   "metadata": {},
   "outputs": [],
   "source": []
  },
  {
   "cell_type": "code",
   "execution_count": null,
   "metadata": {},
   "outputs": [],
   "source": []
  }
 ],
 "metadata": {
  "kernelspec": {
   "display_name": "Python 3",
   "language": "python",
   "name": "python3"
  },
  "language_info": {
   "codemirror_mode": {
    "name": "ipython",
    "version": 3
   },
   "file_extension": ".py",
   "mimetype": "text/x-python",
   "name": "python",
   "nbconvert_exporter": "python",
   "pygments_lexer": "ipython3",
   "version": "3.6.4"
  }
 },
 "nbformat": 4,
 "nbformat_minor": 2
}
